{
  "nbformat": 4,
  "nbformat_minor": 0,
  "metadata": {
    "colab": {
      "name": "Linear_Regression",
      "provenance": [],
      "collapsed_sections": [],
      "toc_visible": true
    },
    "kernelspec": {
      "display_name": "Python 3",
      "name": "python3"
    }
  },
  "cells": [
    {
      "cell_type": "markdown",
      "metadata": {
        "id": "6pQgmrD-a3wh"
      },
      "source": [
        "![image.png](data:image/png;base64,iVBORw0KGgoAAAANSUhEUgAAALUAAADJCAYAAABls3MTAAAOA0lEQVR4nO2dMXKjSheFD3/NUiQHfloBXoHkxJFTZxBKiTOFzpygUMomdeRkYAXSCigHhr30HzTgBrobkGRm3JyvylXP00KlujoPd6vup+ulaSpAiEP8AoD//vvvb78Op/E8D0Lw3jEGnufhf3/7RRBybRhq4hwMNXEOhpo4B0NNnIOhVsh3d/A8r/oJk/ZjklCu3e3y8irs7rzadZ7uwolS1vSrXnXa9QSQ73Bneh9sawUMdUm+w9PbIzIhIIRAFvk4rELUapaEWKUBAr99eRDL64QQEPvlWK/6HyZB6Hl4whaRpl7yIbp6JgjnGyDKZC3jAIfVHWTmbWtfMNQlszWOxzVm5a/3j/CR4rMqWI7dywHB9hm3f+kl/iyW2AuB43puWDfUM3nHAQG26+KdWD4j8k/4yDrWFBhqE9kHTljgpqhfvnvCZhHDdBM+rMo/ie07B2ljqmf+mQL+LZr/K6SfuXVNhaHWIu8ifvSMJSC3JpsFYm2iZ1gfv7YeWQRs5o1tC6ljrWeTGW4Ww9YYag1JOMcGEX6vZwBy7J42WMR79HoL1lsEOOCdqTYwrJ5Ajs902BpD3SAJPazSCFm1v87wcVK3F3NsTsBpM4d3t0Nrp5F/IoWPW9NWcvLY64mbBXD6QGObjMXNDDPLWo00TQURQohMRD4E/EhkPR7nR/JRceCLSLkgDtrPAeAbXu9PoV6v7vVYBIAI4vLXQACBiDvXJAAEQ10SB7IgzZ8gbjyw8SY0r9P8TzHNUMsANuvZDrcm9Fkk/Oqa+k3DuiZkrb00TQVbT78Xtp6OB1tPiZMw1MQ5GGriHL8AuQ8h3wtrPB6/APAQ883woDgePCgSJ2GoiXMw1MQ5GGriHAw1cQ6GWqHuKLZ7ok2+XR+3carYHMV63RS5go7itUjwqjiKcXDAqqqYxbfr4zZOErujmO/uMFfqJsQR0tK63FFkl56BLPI1HXddbZSi6CKrd49hkl16JbqaxSLQdNjJpWY7qbw+iDvWCgAI3qm1JHjdnOA/3mPW/eA6DbeRaMg/kQJ4e2p/rQQdxWuThEWRVzgEMY7roclsuI1ET/aBE4DH38XWI4vgH1aGswgdxctY7r8E2tsX7WHRRt1tJHaUv2azezz67TuuhI7i1Wh/74edtttIjMxvjbW1eYh9HUWGuiTf4U75+5f/eeu5N5ZfO8ZAD2B2j0f/hLc/RaqTV2xOPh7vZ8DyoW7jJ6/YnAI8LGFfU+GnHyWFeKv13yy+XQ+3EZP89KPDUay5hvVPMOgo/gDYejoebD0lTsJQE+dgqIlz0FEcCdZ4POgojgAPiuPBgyJxEoaaOAdDTZyDoSbOwVAT52CoFYyuYdVn3fwpWlNr6xxkpKJ1FLvqeaGjyIamkiwSvqJvZZHf+pZ6lTgompbioN5YY/h2++khG5r8KO5W4IRSz+o69Uvty/ra1iTgJAELGtdQt9Z2Gdv+3TRDXTLQ66Sj+I1YXMPkdYNTsMV6Zmpqbw+sJGbUel7DUfz1ra/2x1K6hpnGNUzwfgCCuFhZ7hEHHlbeoVj34fuAUasjDRr1bDHcUWSoNZSuYaZxDfPdCw5+hEx5D5Z7AbGvrkborUZ5nS6gq2fjEdJD1M7O1q8x1A3srqH86oQgPpq1rWJ+tvHGQxTa9VS3c2qNFzczzGBeq8GDYkn3HMWuT0Rap/MC8KCoPSjq68k5itej0zXUB7bp2unevGmGumuOoqGeQtBR/Amw9XQ82HpKnIShJs7BUBPnoKM4EqzxeNBRHAEeFMeDB0XiJAw1cQ6GmjgHQ02cg6EmzsFQK1jnKNrcuIZzp5sZOFWMcxRNNbP6i/IL7mv/rpMU2dBUEotA6dD7cuaKNas3pzTWcORcgc1R7K5Z7Zmq96KtbzUBdS6VJfZKD/X81gfST8iZlLJHeltKA8tnRH6hbOWfSGtDeW5ovQAAltgLgeO6KV9hWM3yHV4OPqLnAQ3qvFPrqN+Z23JtvUc4DlD09ep7hzHJO3WJviZdNas9rro120aYSAAImi8qSQhvVbiGQQxhHB1Xd+OWe4EYhafo6zUwUqdfzZr+4gzro8C6+C3f3WE+D3Ej9jWXlNsPld5zFNX5fXIG9/tDcd3jG+b8QpsO+tWs9BdNO4/Zeluf1lXAUBtQ5yja5vc1Cz9b/0akjlMjLfrVrPAXt5YxfvknUvi4bWzbGeoS2xxFy/y+VuDzP3g7aWRQUtGnZvnuBQfUZyQmYf1unrxucPIfcd8sNQ+KJR2HEIsbJw89Zk8Rkzwo2h1Fe80M/mLTI9VI0qCjOA5sPR0Ptp4SJ2GoiXMw1MQ56CiOBGs8HnQUR4AHxfHgQZE4CUNNnIOhJs7BUBPnYKiJczDUDfo5dY02Sc5RNGKsp23twjmKDHWF7PF9whaR31wK4a1SRJns/xXxApu5MhjUtDZpLPXsWptvgCgr6hngsCpvFLa1LxjqCrNTJ0edKS2OywcERa+1bW3aWBxF25rNB7WtKTDUPbDNSuQcxevCOYpjYZuVyDmK38zwOYq8U/dkuReVvyjEFotTvzVyKaoP2m+NoT6HYm/3oBNCbWukE5sPaltTYagHkyBcHeBHz9oRz+Y10guLD2pdU6GjWGJx6myzEjlH0YDNUeyYscg5iv8+bD0dD7aeEidhqIlzMNTEOegojgRrPB50FEeAB8Xx4EGROAlDTZyDoSbOwVAT52CoiXMw1Ar1OYpt/+0sf3Hi6Gtmm4fYMSuRjuIA8h2e3h6RlTNfIh+HVekanukvThqbhygJYqUPfb/ssUZHcRizNY7KHEV15su5/uK0sTmKZ0JH8UKyj6+ZLxboKJ7PYWXesunW+jqKDLWWHLuXns3+yz3i4IBVtc97QWr4c0tK5DxEUW31oGzZbGvt56Gj2JMknGODCL97Dvmko3gZpnmIXWt0FHuShB5WaYTsaJnfZ30COoqDMcxDbK7RURyM/CjpokDTUeyFbR6idVYiHcWBNGf0lT9BLM72FwtAR7FeH9s8xK5ZiXQU/w3YejoebD0lTsJQE+dgqIlz0FEcCdZ4POgojgAPiuPBgyJxEoaaOAdDTZyDoSbOwVAT52CoNSSh1/bqjG5ch1M3YWzOZ31N7Zemo3h9khCrNEBQa/TvduNsvt0k6XA+X5W1ODhg1UgnHcWrIY2XYPuMW/Wfe7pxRKHL+VTW5rc+kH6iU+ukozicfPeEzSJG80bbx42z+XYEFuczwevmBP/xvtbDTkfxGuQ7PG0WiHttHVQ3bohTN1U0zmf1XSkrHIIYx0qdo6N4JXLsnjZYxPuexop5tp/dqZsmWudzuf8K7u1L47D4BR3Fs8nwcVL/5M2xOQGnzRze3Q7o6cYBsPt2E6SP81nfbzc4w1GkzqUlE5GvqllSTQri8tdAAIGIhRBxUFeK4qCtIGGSOpesYUvHEkIqWVUxhcgiv2c9ze9DCQDBUGtphlqY3bgup05MNNRW57MI/Dn1pKP4b8DW0/Fg6ylxEoaaOAdDTZyDjuJIsMbjQUdxBHhQHA8eFImTMNTEORhq4hwMNXEOhpo4B0OtYPbmumcsAga3ccKcVzM6ilfE4s1Zfbvycp3bOGEurNkljiK79Axkka9vm5SLwq91iMmusyDWdPeJiXbpNelds/LfNc/RajVtPxaA4J1ai96bq2j4dia3kSgMrNkljuKv677yH04Swlsd5H8HMYR25Fzp22VS/SrdRrEEun3oiTKkZtJRXJdX7u4wn4e4EftWmOko9qGHN1f37Ya6jdPkkpqd4yhyT22itQfUqVr6CVRoGBuY8J763JpVqO9Dzz01Q11i8easvl39SXhQrDivZnQUr8oAb67m27Wfg6EW59eMjuLPgK2n48HWU+IkDDVxDoaaOAcdxZFgjceDjuII8KA4HjwoEidhqIlzMNTEORhq4hwMNXEOhlrB5iiq6y0HsZpfwkFGTYw1K9B5nWa3sd/MSoa6wjbbL0HoeXjCFlHTp0tCeKsUUVb4dPGCg4wAWGtWPUTjKPZwG7tmVjLUFbbZfkvshcBx3XYvpGL0iPvywuUDAtP8kklhrpnEMLPSOn+xHwy1lg5HUUE/XIeDQ7vo7XVq5i92zaxkqFWMs/0sLPdyq1Lt816Q8msS7PSeWdmcv9hvxiJDrdJztl/7MmWPJ7ZYnL79lf5g+juK2vmLCiZ/kaE2cM5eDkA1P/uBJq4B+8zKstx95i+aZlYy1CX5DnfKx0P5nzfDLG0bCcJVY1wxaSAPkF9/2TJEPuBHGcRxjVnxsZ0u0ElY30Mnrxuc1EN6CR3FEoujaDCg/ShrOHNtP1GIiTqKtprV6HAUVbex58xKOoojwNbT8WDrKXEShpo4B0NNnIOO4kiwxuNBR3EEeFAcDx4UiZMw1MQ5GGriHAw1cQ6GmjgHQ61wnhvXz5ubKlpHseZ0qj9Fq69tViLnKA7gQjeuy5ubHhZHUelbF5UTCiB4wNI6K7HfHEVO5yqZrXE8Kr/eP8LfvOEzB5aD2k+JRLaYAjl2bx0PzXd4OfiIsiWQhDggQFyKActnRP5c6nHZu3lNeY94pzYx0I3r8uaImeR1g1OwxXpmn5XYd44iQ61liBvXz5sjJhK8H4DAqArpZyXa1hhqDee6cV1rpE2+e8HBj/BsPIYYZiVa1hjqBpe4cZ1rpIH8Kopgq3zPh/YrJ4DFzcy6VoM6V4l57p9ttp997p8Ek9S5SvRj+IRozqossc1K5BzFYZzrxvX05qZHl6Mo13Vht85K5BzFfwO2no4HW0+JkzDUxDkYauIcdBRHgjUej/8DZFGfLoQrHi0AAAAASUVORK5CYII=\n",
        ")"
      ]
    },
    {
      "cell_type": "code",
      "metadata": {
        "id": "4r9EUk6cbV-V"
      },
      "source": [
        "#Importing the libraries\n",
        "import numpy as np\n",
        "import pandas as pd\n",
        "import matplotlib.pyplot as plt\n",
        "from sklearn.linear_model import LinearRegression"
      ],
      "execution_count": 2,
      "outputs": []
    },
    {
      "cell_type": "code",
      "metadata": {
        "id": "4pvVHihXbnnt"
      },
      "source": [
        "## Loading data from numpy array\n",
        "dataset = np.array(\n",
        "    [\n",
        "     [245,1400],\n",
        "     [312,1600],\n",
        "     [279,1700],\n",
        "     [308,1875],\n",
        "     [199,1100],\n",
        "     [219,1550],\n",
        "     [405,2350],\n",
        "     [324,2450],\n",
        "     [319,1425],\n",
        "     [245,1700]\n",
        "    ]\n",
        ")\n"
      ],
      "execution_count": 4,
      "outputs": []
    },
    {
      "cell_type": "code",
      "metadata": {
        "colab": {
          "base_uri": "https://localhost:8080/"
        },
        "id": "gLw7iw6WcgPO",
        "outputId": "d862fc82-8764-4297-c6d4-ef5523e3f191"
      },
      "source": [
        "print(dataset)"
      ],
      "execution_count": 5,
      "outputs": [
        {
          "output_type": "stream",
          "name": "stdout",
          "text": [
            "[[ 245 1400]\n",
            " [ 312 1600]\n",
            " [ 279 1700]\n",
            " [ 308 1875]\n",
            " [ 199 1100]\n",
            " [ 219 1550]\n",
            " [ 405 2350]\n",
            " [ 324 2450]\n",
            " [ 319 1425]\n",
            " [ 245 1700]]\n"
          ]
        }
      ]
    },
    {
      "cell_type": "code",
      "metadata": {
        "id": "-oSJDL6zciSt"
      },
      "source": [
        "#Selecting the fearute\n",
        "size = dataset[:,-1:].astype('int')"
      ],
      "execution_count": 6,
      "outputs": []
    },
    {
      "cell_type": "code",
      "metadata": {
        "colab": {
          "base_uri": "https://localhost:8080/"
        },
        "id": "Mk9L1pqLdkmY",
        "outputId": "25fa1bce-bbe2-406e-d705-6619a5b86c2c"
      },
      "source": [
        "size"
      ],
      "execution_count": 7,
      "outputs": [
        {
          "output_type": "execute_result",
          "data": {
            "text/plain": [
              "array([[1400],\n",
              "       [1600],\n",
              "       [1700],\n",
              "       [1875],\n",
              "       [1100],\n",
              "       [1550],\n",
              "       [2350],\n",
              "       [2450],\n",
              "       [1425],\n",
              "       [1700]])"
            ]
          },
          "metadata": {},
          "execution_count": 7
        }
      ]
    },
    {
      "cell_type": "code",
      "metadata": {
        "colab": {
          "base_uri": "https://localhost:8080/"
        },
        "id": "aOrs8cWmdljf",
        "outputId": "fd5ef3c5-bbac-4693-ee2b-a2416cf71989"
      },
      "source": [
        "target = dataset[:,0:-1].astype('int')\n",
        "target"
      ],
      "execution_count": 8,
      "outputs": [
        {
          "output_type": "execute_result",
          "data": {
            "text/plain": [
              "array([[245],\n",
              "       [312],\n",
              "       [279],\n",
              "       [308],\n",
              "       [199],\n",
              "       [219],\n",
              "       [405],\n",
              "       [324],\n",
              "       [319],\n",
              "       [245]])"
            ]
          },
          "metadata": {},
          "execution_count": 8
        }
      ]
    },
    {
      "cell_type": "code",
      "metadata": {
        "colab": {
          "base_uri": "https://localhost:8080/"
        },
        "id": "8t42spuNeOeZ",
        "outputId": "fb45df71-222e-4e8c-a480-388a4f3d013f"
      },
      "source": [
        "#train the model \n",
        "model = LinearRegression()\n",
        "model.fit(size,target)"
      ],
      "execution_count": 9,
      "outputs": [
        {
          "output_type": "execute_result",
          "data": {
            "text/plain": [
              "LinearRegression()"
            ]
          },
          "metadata": {},
          "execution_count": 9
        }
      ]
    },
    {
      "cell_type": "code",
      "metadata": {
        "id": "Y7yLdYcSenBv"
      },
      "source": [
        "pred = model.predict(size)"
      ],
      "execution_count": 13,
      "outputs": []
    },
    {
      "cell_type": "code",
      "metadata": {
        "colab": {
          "base_uri": "https://localhost:8080/"
        },
        "id": "EmJCeW0Ee8LF",
        "outputId": "5d0a9363-d333-44d5-bfe8-db47cf64addf"
      },
      "source": [
        "#single value prediction\n",
        "guss_value = np.array([[1500]])\n",
        "predict_value = model.predict(guss_value)\n",
        "print(\"The value of guss size is \", predict_value)"
      ],
      "execution_count": 15,
      "outputs": [
        {
          "output_type": "stream",
          "name": "stdout",
          "text": [
            "The value of guss size is  [[261.87941457]]\n"
          ]
        }
      ]
    },
    {
      "cell_type": "code",
      "metadata": {
        "colab": {
          "base_uri": "https://localhost:8080/",
          "height": 312
        },
        "id": "I48EwnIAfcte",
        "outputId": "48613896-4b9b-4113-8f56-48eb70ab896d"
      },
      "source": [
        "plt.scatter(size, target, color='green')\n",
        "plt.plot(size, pred, color='red')\n",
        "plt.scatter(guss_value, predict_value, color='blue')\n",
        "plt.title(\"Linear Regression\")\n",
        "plt.xlabel(\"House Size\")\n",
        "plt.ylabel(\"House Price\")"
      ],
      "execution_count": 18,
      "outputs": [
        {
          "output_type": "execute_result",
          "data": {
            "text/plain": [
              "Text(0, 0.5, 'House Price')"
            ]
          },
          "metadata": {},
          "execution_count": 18
        },
        {
          "output_type": "display_data",
          "data": {
            "image/png": "[encoded data removed]",
            "text/plain": [
              "<Figure size 432x288 with 1 Axes>"
            ]
          },
          "metadata": {
            "needs_background": "light"
          }
        }
      ]
    },
    {
      "cell_type": "code",
      "metadata": {
        "id": "m7tTsRayglNY"
      },
      "source": [
        ""
      ],
      "execution_count": null,
      "outputs": []
    }
  ]
}