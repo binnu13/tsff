{
 "cells": [
  {
   "cell_type": "code",
   "execution_count": 1,
   "id": "skilled-violence",
   "metadata": {
    "_cell_guid": "b1076dfc-b9ad-4769-8c92-a6c4dae69d19",
    "_uuid": "8f2839f25d086af736a60e9eeb907d3b93b6e0e5",
    "execution": {
     "iopub.execute_input": "2021-06-27T22:32:02.989024Z",
     "iopub.status.busy": "2021-06-27T22:32:02.987781Z",
     "iopub.status.idle": "2021-06-27T22:32:03.001823Z",
     "shell.execute_reply": "2021-06-27T22:32:03.002504Z",
     "shell.execute_reply.started": "2021-06-27T21:13:24.124893Z"
    },
    "papermill": {
     "duration": 0.059446,
     "end_time": "2021-06-27T22:32:03.002849",
     "exception": false,
     "start_time": "2021-06-27T22:32:02.943403",
     "status": "completed"
    },
    "tags": []
   },
   "outputs": [
    {
     "name": "stdout",
     "output_type": "stream",
     "text": [
      "/kaggle/input/titanic/train.csv\n"
     ]
    }
   ],
   "source": [
    "# This Python 3 environment comes with many helpful analytics libraries installed\n",
    "# It is defined by the kaggle/python Docker image: https://github.com/kaggle/docker-python\n",
    "# For example, here's several helpful packages to load\n",
    "\n",
    "import numpy as np # linear algebra\n",
    "import pandas as pd # data processing, CSV file I/O (e.g. pd.read_csv)\n",
    "\n",
    "# Input data files are available in the read-only \"../input/\" directory\n",
    "# For example, running this (by clicking run or pressing Shift+Enter) will list all files under the input directory\n",
    "\n",
    "import os\n",
    "for dirname, _, filenames in os.walk('/kaggle/input'):\n",
    "    for filename in filenames:\n",
    "        print(os.path.join(dirname, filename))\n",
    "\n",
    "# You can write up to 20GB to the current directory (/kaggle/working/) that gets preserved as output when you create a version using \"Save & Run All\" \n",
    "# You can also write temporary files to /kaggle/temp/, but they won't be saved outside of the current session"
   ]
  },
  {
   "cell_type": "markdown",
   "id": "reduced-coordinate",
   "metadata": {
    "papermill": {
     "duration": 0.038621,
     "end_time": "2021-06-27T22:32:03.081459",
     "exception": false,
     "start_time": "2021-06-27T22:32:03.042838",
     "status": "completed"
    },
    "tags": []
   },
   "source": [
    "# Reading Data \n",
    "Here is our first line of code where we load the data and read the data of csv file (comma separated value) into pandas dataframe."
   ]
  },
  {
   "cell_type": "code",
   "execution_count": 2,
   "id": "black-bottle",
   "metadata": {
    "execution": {
     "iopub.execute_input": "2021-06-27T22:32:03.164846Z",
     "iopub.status.busy": "2021-06-27T22:32:03.164196Z",
     "iopub.status.idle": "2021-06-27T22:32:03.180164Z",
     "shell.execute_reply": "2021-06-27T22:32:03.180753Z",
     "shell.execute_reply.started": "2021-06-27T21:14:03.858331Z"
    },
    "papermill": {
     "duration": 0.060035,
     "end_time": "2021-06-27T22:32:03.180930",
     "exception": false,
     "start_time": "2021-06-27T22:32:03.120895",
     "status": "completed"
    },
    "tags": []
   },
   "outputs": [],
   "source": [
    "df = pd.read_csv('/kaggle/input/titanic/train.csv')"
   ]
  },
  {
   "cell_type": "code",
   "execution_count": 3,
   "id": "agreed-aside",
   "metadata": {
    "execution": {
     "iopub.execute_input": "2021-06-27T22:32:03.271222Z",
     "iopub.status.busy": "2021-06-27T22:32:03.269666Z",
     "iopub.status.idle": "2021-06-27T22:32:03.303903Z",
     "shell.execute_reply": "2021-06-27T22:32:03.303352Z",
     "shell.execute_reply.started": "2021-06-27T21:14:09.061497Z"
    },
    "papermill": {
     "duration": 0.082704,
     "end_time": "2021-06-27T22:32:03.304055",
     "exception": false,
     "start_time": "2021-06-27T22:32:03.221351",
     "status": "completed"
    },
    "tags": []
   },
   "outputs": [
    {
     "data": {
      "text/html": [
       "<div>\n",
       "<style scoped>\n",
       "    .dataframe tbody tr th:only-of-type {\n",
       "        vertical-align: middle;\n",
       "    }\n",
       "\n",
       "    .dataframe tbody tr th {\n",
       "        vertical-align: top;\n",
       "    }\n",
       "\n",
       "    .dataframe thead th {\n",
       "        text-align: right;\n",
       "    }\n",
       "</style>\n",
       "<table border=\"1\" class=\"dataframe\">\n",
       "  <thead>\n",
       "    <tr style=\"text-align: right;\">\n",
       "      <th></th>\n",
       "      <th>PassengerId</th>\n",
       "      <th>Survived</th>\n",
       "      <th>Pclass</th>\n",
       "      <th>Name</th>\n",
       "      <th>Sex</th>\n",
       "      <th>Age</th>\n",
       "      <th>SibSp</th>\n",
       "      <th>Parch</th>\n",
       "      <th>Ticket</th>\n",
       "      <th>Fare</th>\n",
       "      <th>Cabin</th>\n",
       "      <th>Embarked</th>\n",
       "    </tr>\n",
       "  </thead>\n",
       "  <tbody>\n",
       "    <tr>\n",
       "      <th>0</th>\n",
       "      <td>1</td>\n",
       "      <td>0</td>\n",
       "      <td>3</td>\n",
       "      <td>Braund, Mr. Owen Harris</td>\n",
       "      <td>male</td>\n",
       "      <td>22.0</td>\n",
       "      <td>1</td>\n",
       "      <td>0</td>\n",
       "      <td>A/5 21171</td>\n",
       "      <td>7.2500</td>\n",
       "      <td>NaN</td>\n",
       "      <td>S</td>\n",
       "    </tr>\n",
       "    <tr>\n",
       "      <th>1</th>\n",
       "      <td>2</td>\n",
       "      <td>1</td>\n",
       "      <td>1</td>\n",
       "      <td>Cumings, Mrs. John Bradley (Florence Briggs Th...</td>\n",
       "      <td>female</td>\n",
       "      <td>38.0</td>\n",
       "      <td>1</td>\n",
       "      <td>0</td>\n",
       "      <td>PC 17599</td>\n",
       "      <td>71.2833</td>\n",
       "      <td>C85</td>\n",
       "      <td>C</td>\n",
       "    </tr>\n",
       "    <tr>\n",
       "      <th>2</th>\n",
       "      <td>3</td>\n",
       "      <td>1</td>\n",
       "      <td>3</td>\n",
       "      <td>Heikkinen, Miss. Laina</td>\n",
       "      <td>female</td>\n",
       "      <td>26.0</td>\n",
       "      <td>0</td>\n",
       "      <td>0</td>\n",
       "      <td>STON/O2. 3101282</td>\n",
       "      <td>7.9250</td>\n",
       "      <td>NaN</td>\n",
       "      <td>S</td>\n",
       "    </tr>\n",
       "    <tr>\n",
       "      <th>3</th>\n",
       "      <td>4</td>\n",
       "      <td>1</td>\n",
       "      <td>1</td>\n",
       "      <td>Futrelle, Mrs. Jacques Heath (Lily May Peel)</td>\n",
       "      <td>female</td>\n",
       "      <td>35.0</td>\n",
       "      <td>1</td>\n",
       "      <td>0</td>\n",
       "      <td>113803</td>\n",
       "      <td>53.1000</td>\n",
       "      <td>C123</td>\n",
       "      <td>S</td>\n",
       "    </tr>\n",
       "    <tr>\n",
       "      <th>4</th>\n",
       "      <td>5</td>\n",
       "      <td>0</td>\n",
       "      <td>3</td>\n",
       "      <td>Allen, Mr. William Henry</td>\n",
       "      <td>male</td>\n",
       "      <td>35.0</td>\n",
       "      <td>0</td>\n",
       "      <td>0</td>\n",
       "      <td>373450</td>\n",
       "      <td>8.0500</td>\n",
       "      <td>NaN</td>\n",
       "      <td>S</td>\n",
       "    </tr>\n",
       "  </tbody>\n",
       "</table>\n",
       "</div>"
      ],
      "text/plain": [
       "   PassengerId  Survived  Pclass  \\\n",
       "0            1         0       3   \n",
       "1            2         1       1   \n",
       "2            3         1       3   \n",
       "3            4         1       1   \n",
       "4            5         0       3   \n",
       "\n",
       "                                                Name     Sex   Age  SibSp  \\\n",
       "0                            Braund, Mr. Owen Harris    male  22.0      1   \n",
       "1  Cumings, Mrs. John Bradley (Florence Briggs Th...  female  38.0      1   \n",
       "2                             Heikkinen, Miss. Laina  female  26.0      0   \n",
       "3       Futrelle, Mrs. Jacques Heath (Lily May Peel)  female  35.0      1   \n",
       "4                           Allen, Mr. William Henry    male  35.0      0   \n",
       "\n",
       "   Parch            Ticket     Fare Cabin Embarked  \n",
       "0      0         A/5 21171   7.2500   NaN        S  \n",
       "1      0          PC 17599  71.2833   C85        C  \n",
       "2      0  STON/O2. 3101282   7.9250   NaN        S  \n",
       "3      0            113803  53.1000  C123        S  \n",
       "4      0            373450   8.0500   NaN        S  "
      ]
     },
     "execution_count": 3,
     "metadata": {},
     "output_type": "execute_result"
    }
   ],
   "source": [
    "df.head()"
   ]
  },
  {
   "cell_type": "markdown",
   "id": "armed-going",
   "metadata": {
    "papermill": {
     "duration": 0.040743,
     "end_time": "2021-06-27T22:32:03.384749",
     "exception": false,
     "start_time": "2021-06-27T22:32:03.344006",
     "status": "completed"
    },
    "tags": []
   },
   "source": [
    "## Null value checking\n",
    "through this line of code we are checking the null values in the data frame\n",
    "where False mean no null value and True means null values"
   ]
  },
  {
   "cell_type": "code",
   "execution_count": 4,
   "id": "imposed-manner",
   "metadata": {
    "execution": {
     "iopub.execute_input": "2021-06-27T22:32:03.478833Z",
     "iopub.status.busy": "2021-06-27T22:32:03.478122Z",
     "iopub.status.idle": "2021-06-27T22:32:03.489901Z",
     "shell.execute_reply": "2021-06-27T22:32:03.490392Z",
     "shell.execute_reply.started": "2021-06-27T21:14:27.58242Z"
    },
    "papermill": {
     "duration": 0.065858,
     "end_time": "2021-06-27T22:32:03.490581",
     "exception": false,
     "start_time": "2021-06-27T22:32:03.424723",
     "status": "completed"
    },
    "tags": []
   },
   "outputs": [
    {
     "data": {
      "text/html": [
       "<div>\n",
       "<style scoped>\n",
       "    .dataframe tbody tr th:only-of-type {\n",
       "        vertical-align: middle;\n",
       "    }\n",
       "\n",
       "    .dataframe tbody tr th {\n",
       "        vertical-align: top;\n",
       "    }\n",
       "\n",
       "    .dataframe thead th {\n",
       "        text-align: right;\n",
       "    }\n",
       "</style>\n",
       "<table border=\"1\" class=\"dataframe\">\n",
       "  <thead>\n",
       "    <tr style=\"text-align: right;\">\n",
       "      <th></th>\n",
       "      <th>PassengerId</th>\n",
       "      <th>Survived</th>\n",
       "      <th>Pclass</th>\n",
       "      <th>Name</th>\n",
       "      <th>Sex</th>\n",
       "      <th>Age</th>\n",
       "      <th>SibSp</th>\n",
       "      <th>Parch</th>\n",
       "      <th>Ticket</th>\n",
       "      <th>Fare</th>\n",
       "      <th>Cabin</th>\n",
       "      <th>Embarked</th>\n",
       "    </tr>\n",
       "  </thead>\n",
       "  <tbody>\n",
       "    <tr>\n",
       "      <th>0</th>\n",
       "      <td>False</td>\n",
       "      <td>False</td>\n",
       "      <td>False</td>\n",
       "      <td>False</td>\n",
       "      <td>False</td>\n",
       "      <td>False</td>\n",
       "      <td>False</td>\n",
       "      <td>False</td>\n",
       "      <td>False</td>\n",
       "      <td>False</td>\n",
       "      <td>True</td>\n",
       "      <td>False</td>\n",
       "    </tr>\n",
       "    <tr>\n",
       "      <th>1</th>\n",
       "      <td>False</td>\n",
       "      <td>False</td>\n",
       "      <td>False</td>\n",
       "      <td>False</td>\n",
       "      <td>False</td>\n",
       "      <td>False</td>\n",
       "      <td>False</td>\n",
       "      <td>False</td>\n",
       "      <td>False</td>\n",
       "      <td>False</td>\n",
       "      <td>False</td>\n",
       "      <td>False</td>\n",
       "    </tr>\n",
       "    <tr>\n",
       "      <th>2</th>\n",
       "      <td>False</td>\n",
       "      <td>False</td>\n",
       "      <td>False</td>\n",
       "      <td>False</td>\n",
       "      <td>False</td>\n",
       "      <td>False</td>\n",
       "      <td>False</td>\n",
       "      <td>False</td>\n",
       "      <td>False</td>\n",
       "      <td>False</td>\n",
       "      <td>True</td>\n",
       "      <td>False</td>\n",
       "    </tr>\n",
       "    <tr>\n",
       "      <th>3</th>\n",
       "      <td>False</td>\n",
       "      <td>False</td>\n",
       "      <td>False</td>\n",
       "      <td>False</td>\n",
       "      <td>False</td>\n",
       "      <td>False</td>\n",
       "      <td>False</td>\n",
       "      <td>False</td>\n",
       "      <td>False</td>\n",
       "      <td>False</td>\n",
       "      <td>False</td>\n",
       "      <td>False</td>\n",
       "    </tr>\n",
       "    <tr>\n",
       "      <th>4</th>\n",
       "      <td>False</td>\n",
       "      <td>False</td>\n",
       "      <td>False</td>\n",
       "      <td>False</td>\n",
       "      <td>False</td>\n",
       "      <td>False</td>\n",
       "      <td>False</td>\n",
       "      <td>False</td>\n",
       "      <td>False</td>\n",
       "      <td>False</td>\n",
       "      <td>True</td>\n",
       "      <td>False</td>\n",
       "    </tr>\n",
       "    <tr>\n",
       "      <th>...</th>\n",
       "      <td>...</td>\n",
       "      <td>...</td>\n",
       "      <td>...</td>\n",
       "      <td>...</td>\n",
       "      <td>...</td>\n",
       "      <td>...</td>\n",
       "      <td>...</td>\n",
       "      <td>...</td>\n",
       "      <td>...</td>\n",
       "      <td>...</td>\n",
       "      <td>...</td>\n",
       "      <td>...</td>\n",
       "    </tr>\n",
       "    <tr>\n",
       "      <th>886</th>\n",
       "      <td>False</td>\n",
       "      <td>False</td>\n",
       "      <td>False</td>\n",
       "      <td>False</td>\n",
       "      <td>False</td>\n",
       "      <td>False</td>\n",
       "      <td>False</td>\n",
       "      <td>False</td>\n",
       "      <td>False</td>\n",
       "      <td>False</td>\n",
       "      <td>True</td>\n",
       "      <td>False</td>\n",
       "    </tr>\n",
       "    <tr>\n",
       "      <th>887</th>\n",
       "      <td>False</td>\n",
       "      <td>False</td>\n",
       "      <td>False</td>\n",
       "      <td>False</td>\n",
       "      <td>False</td>\n",
       "      <td>False</td>\n",
       "      <td>False</td>\n",
       "      <td>False</td>\n",
       "      <td>False</td>\n",
       "      <td>False</td>\n",
       "      <td>False</td>\n",
       "      <td>False</td>\n",
       "    </tr>\n",
       "    <tr>\n",
       "      <th>888</th>\n",
       "      <td>False</td>\n",
       "      <td>False</td>\n",
       "      <td>False</td>\n",
       "      <td>False</td>\n",
       "      <td>False</td>\n",
       "      <td>True</td>\n",
       "      <td>False</td>\n",
       "      <td>False</td>\n",
       "      <td>False</td>\n",
       "      <td>False</td>\n",
       "      <td>True</td>\n",
       "      <td>False</td>\n",
       "    </tr>\n",
       "    <tr>\n",
       "      <th>889</th>\n",
       "      <td>False</td>\n",
       "      <td>False</td>\n",
       "      <td>False</td>\n",
       "      <td>False</td>\n",
       "      <td>False</td>\n",
       "      <td>False</td>\n",
       "      <td>False</td>\n",
       "      <td>False</td>\n",
       "      <td>False</td>\n",
       "      <td>False</td>\n",
       "      <td>False</td>\n",
       "      <td>False</td>\n",
       "    </tr>\n",
       "    <tr>\n",
       "      <th>890</th>\n",
       "      <td>False</td>\n",
       "      <td>False</td>\n",
       "      <td>False</td>\n",
       "      <td>False</td>\n",
       "      <td>False</td>\n",
       "      <td>False</td>\n",
       "      <td>False</td>\n",
       "      <td>False</td>\n",
       "      <td>False</td>\n",
       "      <td>False</td>\n",
       "      <td>True</td>\n",
       "      <td>False</td>\n",
       "    </tr>\n",
       "  </tbody>\n",
       "</table>\n",
       "<p>891 rows × 12 columns</p>\n",
       "</div>"
      ],
      "text/plain": [
       "     PassengerId  Survived  Pclass   Name    Sex    Age  SibSp  Parch  Ticket  \\\n",
       "0          False     False   False  False  False  False  False  False   False   \n",
       "1          False     False   False  False  False  False  False  False   False   \n",
       "2          False     False   False  False  False  False  False  False   False   \n",
       "3          False     False   False  False  False  False  False  False   False   \n",
       "4          False     False   False  False  False  False  False  False   False   \n",
       "..           ...       ...     ...    ...    ...    ...    ...    ...     ...   \n",
       "886        False     False   False  False  False  False  False  False   False   \n",
       "887        False     False   False  False  False  False  False  False   False   \n",
       "888        False     False   False  False  False   True  False  False   False   \n",
       "889        False     False   False  False  False  False  False  False   False   \n",
       "890        False     False   False  False  False  False  False  False   False   \n",
       "\n",
       "      Fare  Cabin  Embarked  \n",
       "0    False   True     False  \n",
       "1    False  False     False  \n",
       "2    False   True     False  \n",
       "3    False  False     False  \n",
       "4    False   True     False  \n",
       "..     ...    ...       ...  \n",
       "886  False   True     False  \n",
       "887  False  False     False  \n",
       "888  False   True     False  \n",
       "889  False  False     False  \n",
       "890  False   True     False  \n",
       "\n",
       "[891 rows x 12 columns]"
      ]
     },
     "execution_count": 4,
     "metadata": {},
     "output_type": "execute_result"
    }
   ],
   "source": [
    "df.isnull()"
   ]
  },
  {
   "cell_type": "markdown",
   "id": "joined-richardson",
   "metadata": {
    "papermill": {
     "duration": 0.040434,
     "end_time": "2021-06-27T22:32:03.571420",
     "exception": false,
     "start_time": "2021-06-27T22:32:03.530986",
     "status": "completed"
    },
    "tags": []
   },
   "source": [
    "sum() function will show you the statistics of null value of every features."
   ]
  },
  {
   "cell_type": "code",
   "execution_count": 5,
   "id": "retained-mattress",
   "metadata": {
    "execution": {
     "iopub.execute_input": "2021-06-27T22:32:03.656538Z",
     "iopub.status.busy": "2021-06-27T22:32:03.655844Z",
     "iopub.status.idle": "2021-06-27T22:32:03.664056Z",
     "shell.execute_reply": "2021-06-27T22:32:03.664584Z",
     "shell.execute_reply.started": "2021-06-27T21:14:52.629301Z"
    },
    "papermill": {
     "duration": 0.052785,
     "end_time": "2021-06-27T22:32:03.664816",
     "exception": false,
     "start_time": "2021-06-27T22:32:03.612031",
     "status": "completed"
    },
    "tags": []
   },
   "outputs": [
    {
     "data": {
      "text/plain": [
       "PassengerId      0\n",
       "Survived         0\n",
       "Pclass           0\n",
       "Name             0\n",
       "Sex              0\n",
       "Age            177\n",
       "SibSp            0\n",
       "Parch            0\n",
       "Ticket           0\n",
       "Fare             0\n",
       "Cabin          687\n",
       "Embarked         2\n",
       "dtype: int64"
      ]
     },
     "execution_count": 5,
     "metadata": {},
     "output_type": "execute_result"
    }
   ],
   "source": [
    "df.isnull().sum()"
   ]
  },
  {
   "cell_type": "markdown",
   "id": "august-weekly",
   "metadata": {
    "papermill": {
     "duration": 0.041846,
     "end_time": "2021-06-27T22:32:03.747573",
     "exception": false,
     "start_time": "2021-06-27T22:32:03.705727",
     "status": "completed"
    },
    "tags": []
   },
   "source": []
  },
  {
   "cell_type": "markdown",
   "id": "instant-freeze",
   "metadata": {
    "papermill": {
     "duration": 0.040682,
     "end_time": "2021-06-27T22:32:03.830166",
     "exception": false,
     "start_time": "2021-06-27T22:32:03.789484",
     "status": "completed"
    },
    "tags": []
   },
   "source": [
    "# Exploratory Data Analysis\n",
    "let's begin exploratory data analysis.\n",
    "We will start by checking our missing data!\n"
   ]
  },
  {
   "cell_type": "markdown",
   "id": "comparative-success",
   "metadata": {
    "papermill": {
     "duration": 0.040415,
     "end_time": "2021-06-27T22:32:03.912353",
     "exception": false,
     "start_time": "2021-06-27T22:32:03.871938",
     "status": "completed"
    },
    "tags": []
   },
   "source": [
    "## Missing Data\n",
    "we will use seaborn library to create some visual like heatmap"
   ]
  },
  {
   "cell_type": "code",
   "execution_count": 6,
   "id": "cheap-address",
   "metadata": {
    "execution": {
     "iopub.execute_input": "2021-06-27T22:32:03.998845Z",
     "iopub.status.busy": "2021-06-27T22:32:03.998206Z",
     "iopub.status.idle": "2021-06-27T22:32:05.113117Z",
     "shell.execute_reply": "2021-06-27T22:32:05.112535Z",
     "shell.execute_reply.started": "2021-06-27T21:22:12.677627Z"
    },
    "papermill": {
     "duration": 1.159162,
     "end_time": "2021-06-27T22:32:05.113258",
     "exception": false,
     "start_time": "2021-06-27T22:32:03.954096",
     "status": "completed"
    },
    "tags": []
   },
   "outputs": [
    {
     "data": {
      "text/plain": [
       "<AxesSubplot:>"
      ]
     },
     "execution_count": 6,
     "metadata": {},
     "output_type": "execute_result"
    },
    {
     "data": {
      "image/png": "[encoded data removed]",
      "text/plain": [
       "<Figure size 432x288 with 1 Axes>"
      ]
     },
     "metadata": {
      "needs_background": "light"
     },
     "output_type": "display_data"
    }
   ],
   "source": [
    "import seaborn as sns\n",
    "sns.heatmap(df.isnull(), yticklabels= False, cbar=False, cmap='viridis')"
   ]
  },
  {
   "cell_type": "markdown",
   "id": "embedded-think",
   "metadata": {
    "papermill": {
     "duration": 0.04196,
     "end_time": "2021-06-27T22:32:05.198047",
     "exception": false,
     "start_time": "2021-06-27T22:32:05.156087",
     "status": "completed"
    },
    "tags": []
   },
   "source": [
    "In the above map the yellow line shows the missing values so the Age and Cabin has missing values."
   ]
  },
  {
   "cell_type": "code",
   "execution_count": 7,
   "id": "entertaining-seattle",
   "metadata": {
    "execution": {
     "iopub.execute_input": "2021-06-27T22:32:05.294509Z",
     "iopub.status.busy": "2021-06-27T22:32:05.291731Z",
     "iopub.status.idle": "2021-06-27T22:32:05.413755Z",
     "shell.execute_reply": "2021-06-27T22:32:05.413074Z",
     "shell.execute_reply.started": "2021-06-27T21:26:23.554311Z"
    },
    "papermill": {
     "duration": 0.174003,
     "end_time": "2021-06-27T22:32:05.413897",
     "exception": false,
     "start_time": "2021-06-27T22:32:05.239894",
     "status": "completed"
    },
    "tags": []
   },
   "outputs": [
    {
     "data": {
      "image/png": "[encoded data removed]",
      "text/plain": [
       "<Figure size 432x288 with 1 Axes>"
      ]
     },
     "metadata": {},
     "output_type": "display_data"
    }
   ],
   "source": [
    "#here we will see the statistic of Survived passangers\n",
    "sns.set_style('whitegrid')\n",
    "sns.countplot(x= 'Survived', data=df);\n"
   ]
  },
  {
   "cell_type": "code",
   "execution_count": 8,
   "id": "western-statement",
   "metadata": {
    "execution": {
     "iopub.execute_input": "2021-06-27T22:32:05.505647Z",
     "iopub.status.busy": "2021-06-27T22:32:05.505010Z",
     "iopub.status.idle": "2021-06-27T22:32:05.652274Z",
     "shell.execute_reply": "2021-06-27T22:32:05.651563Z",
     "shell.execute_reply.started": "2021-06-27T21:38:58.614394Z"
    },
    "papermill": {
     "duration": 0.195826,
     "end_time": "2021-06-27T22:32:05.652416",
     "exception": false,
     "start_time": "2021-06-27T22:32:05.456590",
     "status": "completed"
    },
    "tags": []
   },
   "outputs": [
    {
     "data": {
      "image/png": "[encoded data removed]",
      "text/plain": [
       "<Figure size 432x288 with 1 Axes>"
      ]
     },
     "metadata": {},
     "output_type": "display_data"
    }
   ],
   "source": [
    "#Below code will output the Survived passanger according to gender (male and female).\n",
    "sns.set_style('whitegrid')\n",
    "sns.countplot(x= 'Survived',hue='Sex', data=df);"
   ]
  },
  {
   "cell_type": "code",
   "execution_count": 9,
   "id": "statistical-greek",
   "metadata": {
    "execution": {
     "iopub.execute_input": "2021-06-27T22:32:05.744648Z",
     "iopub.status.busy": "2021-06-27T22:32:05.744004Z",
     "iopub.status.idle": "2021-06-27T22:32:05.932648Z",
     "shell.execute_reply": "2021-06-27T22:32:05.932066Z",
     "shell.execute_reply.started": "2021-06-27T21:39:52.340031Z"
    },
    "papermill": {
     "duration": 0.237496,
     "end_time": "2021-06-27T22:32:05.932789",
     "exception": false,
     "start_time": "2021-06-27T22:32:05.695293",
     "status": "completed"
    },
    "tags": []
   },
   "outputs": [
    {
     "data": {
      "image/png": "[encoded data removed]",
      "text/plain": [
       "<Figure size 432x288 with 1 Axes>"
      ]
     },
     "metadata": {},
     "output_type": "display_data"
    }
   ],
   "source": [
    "#This code will show the result according to the class.\n",
    "sns.set_style('whitegrid')\n",
    "sns.countplot(x= 'Survived',hue='Pclass', data=df);"
   ]
  },
  {
   "cell_type": "code",
   "execution_count": 10,
   "id": "acquired-frank",
   "metadata": {
    "execution": {
     "iopub.execute_input": "2021-06-27T22:32:06.026500Z",
     "iopub.status.busy": "2021-06-27T22:32:06.025850Z",
     "iopub.status.idle": "2021-06-27T22:32:06.296674Z",
     "shell.execute_reply": "2021-06-27T22:32:06.295982Z",
     "shell.execute_reply.started": "2021-06-27T21:28:17.471728Z"
    },
    "papermill": {
     "duration": 0.319549,
     "end_time": "2021-06-27T22:32:06.296817",
     "exception": false,
     "start_time": "2021-06-27T22:32:05.977268",
     "status": "completed"
    },
    "tags": []
   },
   "outputs": [
    {
     "name": "stderr",
     "output_type": "stream",
     "text": [
      "/opt/conda/lib/python3.7/site-packages/seaborn/distributions.py:2557: FutureWarning: `distplot` is a deprecated function and will be removed in a future version. Please adapt your code to use either `displot` (a figure-level function with similar flexibility) or `histplot` (an axes-level function for histograms).\n",
      "  warnings.warn(msg, FutureWarning)\n"
     ]
    },
    {
     "data": {
      "image/png": "[encoded data removed]",
      "text/plain": [
       "<Figure size 432x288 with 1 Axes>"
      ]
     },
     "metadata": {},
     "output_type": "display_data"
    }
   ],
   "source": [
    "sns.distplot(df['Age'].dropna(), kde=False, color='darkred', bins=30);"
   ]
  },
  {
   "cell_type": "code",
   "execution_count": 11,
   "id": "north-favorite",
   "metadata": {
    "execution": {
     "iopub.execute_input": "2021-06-27T22:32:06.391960Z",
     "iopub.status.busy": "2021-06-27T22:32:06.391318Z",
     "iopub.status.idle": "2021-06-27T22:32:06.664899Z",
     "shell.execute_reply": "2021-06-27T22:32:06.665367Z",
     "shell.execute_reply.started": "2021-06-27T21:28:59.907261Z"
    },
    "papermill": {
     "duration": 0.323272,
     "end_time": "2021-06-27T22:32:06.665544",
     "exception": false,
     "start_time": "2021-06-27T22:32:06.342272",
     "status": "completed"
    },
    "tags": []
   },
   "outputs": [
    {
     "data": {
      "text/plain": [
       "<AxesSubplot:>"
      ]
     },
     "execution_count": 11,
     "metadata": {},
     "output_type": "execute_result"
    },
    {
     "data": {
      "image/png": "[encoded data removed]",
      "text/plain": [
       "<Figure size 432x288 with 1 Axes>"
      ]
     },
     "metadata": {},
     "output_type": "display_data"
    }
   ],
   "source": [
    "df['Age'].hist(bins=30, color='darkred', alpha=0.5)"
   ]
  },
  {
   "cell_type": "code",
   "execution_count": 12,
   "id": "composed-romance",
   "metadata": {
    "execution": {
     "iopub.execute_input": "2021-06-27T22:32:06.762719Z",
     "iopub.status.busy": "2021-06-27T22:32:06.762007Z",
     "iopub.status.idle": "2021-06-27T22:32:07.053710Z",
     "shell.execute_reply": "2021-06-27T22:32:07.053163Z",
     "shell.execute_reply.started": "2021-06-27T21:29:29.21107Z"
    },
    "papermill": {
     "duration": 0.342733,
     "end_time": "2021-06-27T22:32:07.053844",
     "exception": false,
     "start_time": "2021-06-27T22:32:06.711111",
     "status": "completed"
    },
    "tags": []
   },
   "outputs": [
    {
     "data": {
      "image/png": "[encoded data removed]",
      "text/plain": [
       "<Figure size 432x288 with 1 Axes>"
      ]
     },
     "metadata": {},
     "output_type": "display_data"
    }
   ],
   "source": [
    "sns.countplot(x= 'SibSp', data=df);"
   ]
  },
  {
   "cell_type": "markdown",
   "id": "worst-palace",
   "metadata": {
    "papermill": {
     "duration": 0.046879,
     "end_time": "2021-06-27T22:32:07.146902",
     "exception": false,
     "start_time": "2021-06-27T22:32:07.100023",
     "status": "completed"
    },
    "tags": []
   },
   "source": [
    "Here 0 means no any sibling or partners 1 mean one partner and so on.."
   ]
  },
  {
   "cell_type": "markdown",
   "id": "excessive-freight",
   "metadata": {
    "papermill": {
     "duration": 0.046288,
     "end_time": "2021-06-27T22:32:07.239694",
     "exception": false,
     "start_time": "2021-06-27T22:32:07.193406",
     "status": "completed"
    },
    "tags": []
   },
   "source": [
    "# Data Cleaning\n",
    "the first and most work here is filling the missing values so we will fill the missing value instead of dropping."
   ]
  },
  {
   "cell_type": "code",
   "execution_count": 13,
   "id": "junior-calculator",
   "metadata": {
    "execution": {
     "iopub.execute_input": "2021-06-27T22:32:07.339320Z",
     "iopub.status.busy": "2021-06-27T22:32:07.338668Z",
     "iopub.status.idle": "2021-06-27T22:32:07.342070Z",
     "shell.execute_reply": "2021-06-27T22:32:07.341481Z",
     "shell.execute_reply.started": "2021-06-27T21:42:44.165731Z"
    },
    "papermill": {
     "duration": 0.055823,
     "end_time": "2021-06-27T22:32:07.342217",
     "exception": false,
     "start_time": "2021-06-27T22:32:07.286394",
     "status": "completed"
    },
    "tags": []
   },
   "outputs": [],
   "source": [
    "import matplotlib.pyplot as plt\n",
    "%matplotlib inline"
   ]
  },
  {
   "cell_type": "code",
   "execution_count": 14,
   "id": "strong-juvenile",
   "metadata": {
    "execution": {
     "iopub.execute_input": "2021-06-27T22:32:07.437992Z",
     "iopub.status.busy": "2021-06-27T22:32:07.437275Z",
     "iopub.status.idle": "2021-06-27T22:32:07.639954Z",
     "shell.execute_reply": "2021-06-27T22:32:07.639289Z",
     "shell.execute_reply.started": "2021-06-27T21:44:54.992155Z"
    },
    "papermill": {
     "duration": 0.251655,
     "end_time": "2021-06-27T22:32:07.640123",
     "exception": false,
     "start_time": "2021-06-27T22:32:07.388468",
     "status": "completed"
    },
    "tags": []
   },
   "outputs": [
    {
     "data": {
      "image/png": "[encoded data removed]",
      "text/plain": [
       "<Figure size 864x504 with 1 Axes>"
      ]
     },
     "metadata": {
      "needs_background": "light"
     },
     "output_type": "display_data"
    }
   ],
   "source": [
    "#Here we can check the average age by passenger class\n",
    "plt.figure(figsize = (12, 7))\n",
    "sns.boxplot(x = 'Pclass', y='Age', data=df, palette='winter');"
   ]
  },
  {
   "cell_type": "markdown",
   "id": "promotional-infrastructure",
   "metadata": {
    "papermill": {
     "duration": 0.048814,
     "end_time": "2021-06-27T22:32:07.740181",
     "exception": false,
     "start_time": "2021-06-27T22:32:07.691367",
     "status": "completed"
    },
    "tags": []
   },
   "source": [
    "### Dealing with missing values\n",
    "we will define a function to filling the missing values on behaf of their mean which we will get from boxplot above "
   ]
  },
  {
   "cell_type": "code",
   "execution_count": 15,
   "id": "sized-produce",
   "metadata": {
    "execution": {
     "iopub.execute_input": "2021-06-27T22:32:07.841334Z",
     "iopub.status.busy": "2021-06-27T22:32:07.840688Z",
     "iopub.status.idle": "2021-06-27T22:32:07.843711Z",
     "shell.execute_reply": "2021-06-27T22:32:07.843207Z",
     "shell.execute_reply.started": "2021-06-27T21:49:31.778129Z"
    },
    "papermill": {
     "duration": 0.056135,
     "end_time": "2021-06-27T22:32:07.843866",
     "exception": false,
     "start_time": "2021-06-27T22:32:07.787731",
     "status": "completed"
    },
    "tags": []
   },
   "outputs": [],
   "source": [
    "def impute_age(cols):\n",
    "    Age = cols[0]\n",
    "    Pclass = cols[1]\n",
    "    \n",
    "    if pd.isnull(Age):\n",
    "        if Pclass == 1:\n",
    "            return 37\n",
    "        elif Pclass == 2:\n",
    "            return 29\n",
    "        else:\n",
    "            return 24\n",
    "    else:\n",
    "        return Age"
   ]
  },
  {
   "cell_type": "markdown",
   "id": "standing-version",
   "metadata": {
    "papermill": {
     "duration": 0.046537,
     "end_time": "2021-06-27T22:32:07.937336",
     "exception": false,
     "start_time": "2021-06-27T22:32:07.890799",
     "status": "completed"
    },
    "tags": []
   },
   "source": []
  },
  {
   "cell_type": "code",
   "execution_count": 16,
   "id": "light-airline",
   "metadata": {
    "execution": {
     "iopub.execute_input": "2021-06-27T22:32:08.040813Z",
     "iopub.status.busy": "2021-06-27T22:32:08.040062Z",
     "iopub.status.idle": "2021-06-27T22:32:08.059390Z",
     "shell.execute_reply": "2021-06-27T22:32:08.058774Z",
     "shell.execute_reply.started": "2021-06-27T21:54:08.985319Z"
    },
    "papermill": {
     "duration": 0.073017,
     "end_time": "2021-06-27T22:32:08.059537",
     "exception": false,
     "start_time": "2021-06-27T22:32:07.986520",
     "status": "completed"
    },
    "tags": []
   },
   "outputs": [],
   "source": [
    "df['Age'] = df[['Age','Pclass']].apply(impute_age, axis=1)"
   ]
  },
  {
   "cell_type": "code",
   "execution_count": 17,
   "id": "selected-cambodia",
   "metadata": {
    "execution": {
     "iopub.execute_input": "2021-06-27T22:32:08.173049Z",
     "iopub.status.busy": "2021-06-27T22:32:08.161859Z",
     "iopub.status.idle": "2021-06-27T22:32:08.409129Z",
     "shell.execute_reply": "2021-06-27T22:32:08.409598Z",
     "shell.execute_reply.started": "2021-06-27T21:57:55.468513Z"
    },
    "papermill": {
     "duration": 0.302106,
     "end_time": "2021-06-27T22:32:08.409794",
     "exception": false,
     "start_time": "2021-06-27T22:32:08.107688",
     "status": "completed"
    },
    "tags": []
   },
   "outputs": [
    {
     "data": {
      "text/plain": [
       "<AxesSubplot:>"
      ]
     },
     "execution_count": 17,
     "metadata": {},
     "output_type": "execute_result"
    },
    {
     "data": {
      "image/png": "[encoded data removed]",
      "text/plain": [
       "<Figure size 432x288 with 1 Axes>"
      ]
     },
     "metadata": {
      "needs_background": "light"
     },
     "output_type": "display_data"
    }
   ],
   "source": [
    "sns.heatmap(df.isnull(), yticklabels=False, cbar=False, cmap='viridis')"
   ]
  },
  {
   "cell_type": "code",
   "execution_count": 18,
   "id": "respective-relevance",
   "metadata": {
    "execution": {
     "iopub.execute_input": "2021-06-27T22:32:08.509508Z",
     "iopub.status.busy": "2021-06-27T22:32:08.508908Z",
     "iopub.status.idle": "2021-06-27T22:32:08.514152Z",
     "shell.execute_reply": "2021-06-27T22:32:08.514703Z",
     "shell.execute_reply.started": "2021-06-27T21:57:21.841499Z"
    },
    "papermill": {
     "duration": 0.056848,
     "end_time": "2021-06-27T22:32:08.514896",
     "exception": false,
     "start_time": "2021-06-27T22:32:08.458048",
     "status": "completed"
    },
    "tags": []
   },
   "outputs": [],
   "source": [
    "df.drop('Cabin', axis=1, inplace=True)"
   ]
  },
  {
   "cell_type": "code",
   "execution_count": 19,
   "id": "magnetic-miller",
   "metadata": {
    "execution": {
     "iopub.execute_input": "2021-06-27T22:32:08.614913Z",
     "iopub.status.busy": "2021-06-27T22:32:08.614191Z",
     "iopub.status.idle": "2021-06-27T22:32:08.629663Z",
     "shell.execute_reply": "2021-06-27T22:32:08.629077Z",
     "shell.execute_reply.started": "2021-06-27T21:57:29.098577Z"
    },
    "papermill": {
     "duration": 0.066606,
     "end_time": "2021-06-27T22:32:08.629813",
     "exception": false,
     "start_time": "2021-06-27T22:32:08.563207",
     "status": "completed"
    },
    "tags": []
   },
   "outputs": [
    {
     "data": {
      "text/html": [
       "<div>\n",
       "<style scoped>\n",
       "    .dataframe tbody tr th:only-of-type {\n",
       "        vertical-align: middle;\n",
       "    }\n",
       "\n",
       "    .dataframe tbody tr th {\n",
       "        vertical-align: top;\n",
       "    }\n",
       "\n",
       "    .dataframe thead th {\n",
       "        text-align: right;\n",
       "    }\n",
       "</style>\n",
       "<table border=\"1\" class=\"dataframe\">\n",
       "  <thead>\n",
       "    <tr style=\"text-align: right;\">\n",
       "      <th></th>\n",
       "      <th>PassengerId</th>\n",
       "      <th>Survived</th>\n",
       "      <th>Pclass</th>\n",
       "      <th>Name</th>\n",
       "      <th>Sex</th>\n",
       "      <th>Age</th>\n",
       "      <th>SibSp</th>\n",
       "      <th>Parch</th>\n",
       "      <th>Ticket</th>\n",
       "      <th>Fare</th>\n",
       "      <th>Embarked</th>\n",
       "    </tr>\n",
       "  </thead>\n",
       "  <tbody>\n",
       "    <tr>\n",
       "      <th>0</th>\n",
       "      <td>1</td>\n",
       "      <td>0</td>\n",
       "      <td>3</td>\n",
       "      <td>Braund, Mr. Owen Harris</td>\n",
       "      <td>male</td>\n",
       "      <td>22.0</td>\n",
       "      <td>1</td>\n",
       "      <td>0</td>\n",
       "      <td>A/5 21171</td>\n",
       "      <td>7.2500</td>\n",
       "      <td>S</td>\n",
       "    </tr>\n",
       "    <tr>\n",
       "      <th>1</th>\n",
       "      <td>2</td>\n",
       "      <td>1</td>\n",
       "      <td>1</td>\n",
       "      <td>Cumings, Mrs. John Bradley (Florence Briggs Th...</td>\n",
       "      <td>female</td>\n",
       "      <td>38.0</td>\n",
       "      <td>1</td>\n",
       "      <td>0</td>\n",
       "      <td>PC 17599</td>\n",
       "      <td>71.2833</td>\n",
       "      <td>C</td>\n",
       "    </tr>\n",
       "    <tr>\n",
       "      <th>2</th>\n",
       "      <td>3</td>\n",
       "      <td>1</td>\n",
       "      <td>3</td>\n",
       "      <td>Heikkinen, Miss. Laina</td>\n",
       "      <td>female</td>\n",
       "      <td>26.0</td>\n",
       "      <td>0</td>\n",
       "      <td>0</td>\n",
       "      <td>STON/O2. 3101282</td>\n",
       "      <td>7.9250</td>\n",
       "      <td>S</td>\n",
       "    </tr>\n",
       "  </tbody>\n",
       "</table>\n",
       "</div>"
      ],
      "text/plain": [
       "   PassengerId  Survived  Pclass  \\\n",
       "0            1         0       3   \n",
       "1            2         1       1   \n",
       "2            3         1       3   \n",
       "\n",
       "                                                Name     Sex   Age  SibSp  \\\n",
       "0                            Braund, Mr. Owen Harris    male  22.0      1   \n",
       "1  Cumings, Mrs. John Bradley (Florence Briggs Th...  female  38.0      1   \n",
       "2                             Heikkinen, Miss. Laina  female  26.0      0   \n",
       "\n",
       "   Parch            Ticket     Fare Embarked  \n",
       "0      0         A/5 21171   7.2500        S  \n",
       "1      0          PC 17599  71.2833        C  \n",
       "2      0  STON/O2. 3101282   7.9250        S  "
      ]
     },
     "execution_count": 19,
     "metadata": {},
     "output_type": "execute_result"
    }
   ],
   "source": [
    "df.head(3)"
   ]
  },
  {
   "cell_type": "code",
   "execution_count": 20,
   "id": "democratic-clearing",
   "metadata": {
    "execution": {
     "iopub.execute_input": "2021-06-27T22:32:08.734818Z",
     "iopub.status.busy": "2021-06-27T22:32:08.733777Z",
     "iopub.status.idle": "2021-06-27T22:32:08.741057Z",
     "shell.execute_reply": "2021-06-27T22:32:08.740457Z",
     "shell.execute_reply.started": "2021-06-27T21:58:14.504616Z"
    },
    "papermill": {
     "duration": 0.06273,
     "end_time": "2021-06-27T22:32:08.741211",
     "exception": false,
     "start_time": "2021-06-27T22:32:08.678481",
     "status": "completed"
    },
    "tags": []
   },
   "outputs": [],
   "source": [
    "df.dropna(inplace=True)"
   ]
  },
  {
   "cell_type": "markdown",
   "id": "sought-israeli",
   "metadata": {
    "papermill": {
     "duration": 0.048426,
     "end_time": "2021-06-27T22:32:08.839170",
     "exception": false,
     "start_time": "2021-06-27T22:32:08.790744",
     "status": "completed"
    },
    "tags": []
   },
   "source": [
    "## Converting Categorical Features\n",
    "we will need to convert categorical feature to dummy variable using pandas! otherwise our machine learning algorithm won't be able to direct take in those features as inputs."
   ]
  },
  {
   "cell_type": "code",
   "execution_count": 21,
   "id": "medieval-preference",
   "metadata": {
    "execution": {
     "iopub.execute_input": "2021-06-27T22:32:08.956181Z",
     "iopub.status.busy": "2021-06-27T22:32:08.955359Z",
     "iopub.status.idle": "2021-06-27T22:32:08.960662Z",
     "shell.execute_reply": "2021-06-27T22:32:08.960008Z",
     "shell.execute_reply.started": "2021-06-27T22:00:18.345897Z"
    },
    "papermill": {
     "duration": 0.071003,
     "end_time": "2021-06-27T22:32:08.960801",
     "exception": false,
     "start_time": "2021-06-27T22:32:08.889798",
     "status": "completed"
    },
    "tags": []
   },
   "outputs": [
    {
     "name": "stdout",
     "output_type": "stream",
     "text": [
      "<class 'pandas.core.frame.DataFrame'>\n",
      "Int64Index: 889 entries, 0 to 890\n",
      "Data columns (total 11 columns):\n",
      " #   Column       Non-Null Count  Dtype  \n",
      "---  ------       --------------  -----  \n",
      " 0   PassengerId  889 non-null    int64  \n",
      " 1   Survived     889 non-null    int64  \n",
      " 2   Pclass       889 non-null    int64  \n",
      " 3   Name         889 non-null    object \n",
      " 4   Sex          889 non-null    object \n",
      " 5   Age          889 non-null    float64\n",
      " 6   SibSp        889 non-null    int64  \n",
      " 7   Parch        889 non-null    int64  \n",
      " 8   Ticket       889 non-null    object \n",
      " 9   Fare         889 non-null    float64\n",
      " 10  Embarked     889 non-null    object \n",
      "dtypes: float64(2), int64(5), object(4)\n",
      "memory usage: 83.3+ KB\n"
     ]
    }
   ],
   "source": [
    "df.info()"
   ]
  },
  {
   "cell_type": "code",
   "execution_count": 22,
   "id": "revolutionary-wilson",
   "metadata": {
    "execution": {
     "iopub.execute_input": "2021-06-27T22:32:09.066088Z",
     "iopub.status.busy": "2021-06-27T22:32:09.065111Z",
     "iopub.status.idle": "2021-06-27T22:32:09.070386Z",
     "shell.execute_reply": "2021-06-27T22:32:09.069822Z",
     "shell.execute_reply.started": "2021-06-27T22:00:46.173982Z"
    },
    "papermill": {
     "duration": 0.059384,
     "end_time": "2021-06-27T22:32:09.070526",
     "exception": false,
     "start_time": "2021-06-27T22:32:09.011142",
     "status": "completed"
    },
    "tags": []
   },
   "outputs": [],
   "source": [
    "sex = pd.get_dummies(df['Sex'])"
   ]
  },
  {
   "cell_type": "code",
   "execution_count": 23,
   "id": "caring-export",
   "metadata": {
    "execution": {
     "iopub.execute_input": "2021-06-27T22:32:09.185322Z",
     "iopub.status.busy": "2021-06-27T22:32:09.184601Z",
     "iopub.status.idle": "2021-06-27T22:32:09.188720Z",
     "shell.execute_reply": "2021-06-27T22:32:09.188048Z",
     "shell.execute_reply.started": "2021-06-27T22:01:39.203651Z"
    },
    "papermill": {
     "duration": 0.068759,
     "end_time": "2021-06-27T22:32:09.188866",
     "exception": false,
     "start_time": "2021-06-27T22:32:09.120107",
     "status": "completed"
    },
    "tags": []
   },
   "outputs": [
    {
     "data": {
      "text/html": [
       "<div>\n",
       "<style scoped>\n",
       "    .dataframe tbody tr th:only-of-type {\n",
       "        vertical-align: middle;\n",
       "    }\n",
       "\n",
       "    .dataframe tbody tr th {\n",
       "        vertical-align: top;\n",
       "    }\n",
       "\n",
       "    .dataframe thead th {\n",
       "        text-align: right;\n",
       "    }\n",
       "</style>\n",
       "<table border=\"1\" class=\"dataframe\">\n",
       "  <thead>\n",
       "    <tr style=\"text-align: right;\">\n",
       "      <th></th>\n",
       "      <th>PassengerId</th>\n",
       "      <th>Survived</th>\n",
       "      <th>Pclass</th>\n",
       "      <th>Name</th>\n",
       "      <th>Sex</th>\n",
       "      <th>Age</th>\n",
       "      <th>SibSp</th>\n",
       "      <th>Parch</th>\n",
       "      <th>Ticket</th>\n",
       "      <th>Fare</th>\n",
       "      <th>Embarked</th>\n",
       "    </tr>\n",
       "  </thead>\n",
       "  <tbody>\n",
       "    <tr>\n",
       "      <th>0</th>\n",
       "      <td>1</td>\n",
       "      <td>0</td>\n",
       "      <td>3</td>\n",
       "      <td>Braund, Mr. Owen Harris</td>\n",
       "      <td>male</td>\n",
       "      <td>22.0</td>\n",
       "      <td>1</td>\n",
       "      <td>0</td>\n",
       "      <td>A/5 21171</td>\n",
       "      <td>7.2500</td>\n",
       "      <td>S</td>\n",
       "    </tr>\n",
       "    <tr>\n",
       "      <th>1</th>\n",
       "      <td>2</td>\n",
       "      <td>1</td>\n",
       "      <td>1</td>\n",
       "      <td>Cumings, Mrs. John Bradley (Florence Briggs Th...</td>\n",
       "      <td>female</td>\n",
       "      <td>38.0</td>\n",
       "      <td>1</td>\n",
       "      <td>0</td>\n",
       "      <td>PC 17599</td>\n",
       "      <td>71.2833</td>\n",
       "      <td>C</td>\n",
       "    </tr>\n",
       "    <tr>\n",
       "      <th>2</th>\n",
       "      <td>3</td>\n",
       "      <td>1</td>\n",
       "      <td>3</td>\n",
       "      <td>Heikkinen, Miss. Laina</td>\n",
       "      <td>female</td>\n",
       "      <td>26.0</td>\n",
       "      <td>0</td>\n",
       "      <td>0</td>\n",
       "      <td>STON/O2. 3101282</td>\n",
       "      <td>7.9250</td>\n",
       "      <td>S</td>\n",
       "    </tr>\n",
       "    <tr>\n",
       "      <th>3</th>\n",
       "      <td>4</td>\n",
       "      <td>1</td>\n",
       "      <td>1</td>\n",
       "      <td>Futrelle, Mrs. Jacques Heath (Lily May Peel)</td>\n",
       "      <td>female</td>\n",
       "      <td>35.0</td>\n",
       "      <td>1</td>\n",
       "      <td>0</td>\n",
       "      <td>113803</td>\n",
       "      <td>53.1000</td>\n",
       "      <td>S</td>\n",
       "    </tr>\n",
       "    <tr>\n",
       "      <th>4</th>\n",
       "      <td>5</td>\n",
       "      <td>0</td>\n",
       "      <td>3</td>\n",
       "      <td>Allen, Mr. William Henry</td>\n",
       "      <td>male</td>\n",
       "      <td>35.0</td>\n",
       "      <td>0</td>\n",
       "      <td>0</td>\n",
       "      <td>373450</td>\n",
       "      <td>8.0500</td>\n",
       "      <td>S</td>\n",
       "    </tr>\n",
       "  </tbody>\n",
       "</table>\n",
       "</div>"
      ],
      "text/plain": [
       "   PassengerId  Survived  Pclass  \\\n",
       "0            1         0       3   \n",
       "1            2         1       1   \n",
       "2            3         1       3   \n",
       "3            4         1       1   \n",
       "4            5         0       3   \n",
       "\n",
       "                                                Name     Sex   Age  SibSp  \\\n",
       "0                            Braund, Mr. Owen Harris    male  22.0      1   \n",
       "1  Cumings, Mrs. John Bradley (Florence Briggs Th...  female  38.0      1   \n",
       "2                             Heikkinen, Miss. Laina  female  26.0      0   \n",
       "3       Futrelle, Mrs. Jacques Heath (Lily May Peel)  female  35.0      1   \n",
       "4                           Allen, Mr. William Henry    male  35.0      0   \n",
       "\n",
       "   Parch            Ticket     Fare Embarked  \n",
       "0      0         A/5 21171   7.2500        S  \n",
       "1      0          PC 17599  71.2833        C  \n",
       "2      0  STON/O2. 3101282   7.9250        S  \n",
       "3      0            113803  53.1000        S  \n",
       "4      0            373450   8.0500        S  "
      ]
     },
     "execution_count": 23,
     "metadata": {},
     "output_type": "execute_result"
    }
   ],
   "source": [
    "df.head()"
   ]
  },
  {
   "cell_type": "code",
   "execution_count": 24,
   "id": "cutting-friendship",
   "metadata": {
    "execution": {
     "iopub.execute_input": "2021-06-27T22:32:09.296007Z",
     "iopub.status.busy": "2021-06-27T22:32:09.295312Z",
     "iopub.status.idle": "2021-06-27T22:32:09.298538Z",
     "shell.execute_reply": "2021-06-27T22:32:09.297933Z",
     "shell.execute_reply.started": "2021-06-27T22:05:30.72554Z"
    },
    "papermill": {
     "duration": 0.060082,
     "end_time": "2021-06-27T22:32:09.298699",
     "exception": false,
     "start_time": "2021-06-27T22:32:09.238617",
     "status": "completed"
    },
    "tags": []
   },
   "outputs": [],
   "source": [
    "sex = pd.get_dummies(df['Sex'], drop_first=True)\n",
    "embark = pd.get_dummies(df['Embarked'],drop_first=True)"
   ]
  },
  {
   "cell_type": "code",
   "execution_count": 25,
   "id": "appointed-appearance",
   "metadata": {
    "execution": {
     "iopub.execute_input": "2021-06-27T22:32:09.404900Z",
     "iopub.status.busy": "2021-06-27T22:32:09.404063Z",
     "iopub.status.idle": "2021-06-27T22:32:09.407248Z",
     "shell.execute_reply": "2021-06-27T22:32:09.407697Z",
     "shell.execute_reply.started": "2021-06-27T22:06:48.367155Z"
    },
    "papermill": {
     "duration": 0.059494,
     "end_time": "2021-06-27T22:32:09.407873",
     "exception": false,
     "start_time": "2021-06-27T22:32:09.348379",
     "status": "completed"
    },
    "tags": []
   },
   "outputs": [],
   "source": [
    "df.drop(['Sex','Embarked','Name','Ticket'], axis=1, inplace=True)"
   ]
  },
  {
   "cell_type": "code",
   "execution_count": 26,
   "id": "sweet-height",
   "metadata": {
    "execution": {
     "iopub.execute_input": "2021-06-27T22:32:09.514624Z",
     "iopub.status.busy": "2021-06-27T22:32:09.513606Z",
     "iopub.status.idle": "2021-06-27T22:32:09.516707Z",
     "shell.execute_reply": "2021-06-27T22:32:09.516154Z",
     "shell.execute_reply.started": "2021-06-27T22:07:24.752251Z"
    },
    "papermill": {
     "duration": 0.059405,
     "end_time": "2021-06-27T22:32:09.516855",
     "exception": false,
     "start_time": "2021-06-27T22:32:09.457450",
     "status": "completed"
    },
    "tags": []
   },
   "outputs": [],
   "source": [
    "df = pd.concat([df, sex,embark], axis=1)"
   ]
  },
  {
   "cell_type": "code",
   "execution_count": 27,
   "id": "personalized-taylor",
   "metadata": {
    "execution": {
     "iopub.execute_input": "2021-06-27T22:32:09.630799Z",
     "iopub.status.busy": "2021-06-27T22:32:09.630063Z",
     "iopub.status.idle": "2021-06-27T22:32:09.643990Z",
     "shell.execute_reply": "2021-06-27T22:32:09.643301Z",
     "shell.execute_reply.started": "2021-06-27T22:07:30.412688Z"
    },
    "papermill": {
     "duration": 0.077421,
     "end_time": "2021-06-27T22:32:09.644139",
     "exception": false,
     "start_time": "2021-06-27T22:32:09.566718",
     "status": "completed"
    },
    "tags": []
   },
   "outputs": [
    {
     "data": {
      "text/html": [
       "<div>\n",
       "<style scoped>\n",
       "    .dataframe tbody tr th:only-of-type {\n",
       "        vertical-align: middle;\n",
       "    }\n",
       "\n",
       "    .dataframe tbody tr th {\n",
       "        vertical-align: top;\n",
       "    }\n",
       "\n",
       "    .dataframe thead th {\n",
       "        text-align: right;\n",
       "    }\n",
       "</style>\n",
       "<table border=\"1\" class=\"dataframe\">\n",
       "  <thead>\n",
       "    <tr style=\"text-align: right;\">\n",
       "      <th></th>\n",
       "      <th>PassengerId</th>\n",
       "      <th>Survived</th>\n",
       "      <th>Pclass</th>\n",
       "      <th>Age</th>\n",
       "      <th>SibSp</th>\n",
       "      <th>Parch</th>\n",
       "      <th>Fare</th>\n",
       "      <th>male</th>\n",
       "      <th>Q</th>\n",
       "      <th>S</th>\n",
       "    </tr>\n",
       "  </thead>\n",
       "  <tbody>\n",
       "    <tr>\n",
       "      <th>0</th>\n",
       "      <td>1</td>\n",
       "      <td>0</td>\n",
       "      <td>3</td>\n",
       "      <td>22.0</td>\n",
       "      <td>1</td>\n",
       "      <td>0</td>\n",
       "      <td>7.2500</td>\n",
       "      <td>1</td>\n",
       "      <td>0</td>\n",
       "      <td>1</td>\n",
       "    </tr>\n",
       "    <tr>\n",
       "      <th>1</th>\n",
       "      <td>2</td>\n",
       "      <td>1</td>\n",
       "      <td>1</td>\n",
       "      <td>38.0</td>\n",
       "      <td>1</td>\n",
       "      <td>0</td>\n",
       "      <td>71.2833</td>\n",
       "      <td>0</td>\n",
       "      <td>0</td>\n",
       "      <td>0</td>\n",
       "    </tr>\n",
       "    <tr>\n",
       "      <th>2</th>\n",
       "      <td>3</td>\n",
       "      <td>1</td>\n",
       "      <td>3</td>\n",
       "      <td>26.0</td>\n",
       "      <td>0</td>\n",
       "      <td>0</td>\n",
       "      <td>7.9250</td>\n",
       "      <td>0</td>\n",
       "      <td>0</td>\n",
       "      <td>1</td>\n",
       "    </tr>\n",
       "    <tr>\n",
       "      <th>3</th>\n",
       "      <td>4</td>\n",
       "      <td>1</td>\n",
       "      <td>1</td>\n",
       "      <td>35.0</td>\n",
       "      <td>1</td>\n",
       "      <td>0</td>\n",
       "      <td>53.1000</td>\n",
       "      <td>0</td>\n",
       "      <td>0</td>\n",
       "      <td>1</td>\n",
       "    </tr>\n",
       "    <tr>\n",
       "      <th>4</th>\n",
       "      <td>5</td>\n",
       "      <td>0</td>\n",
       "      <td>3</td>\n",
       "      <td>35.0</td>\n",
       "      <td>0</td>\n",
       "      <td>0</td>\n",
       "      <td>8.0500</td>\n",
       "      <td>1</td>\n",
       "      <td>0</td>\n",
       "      <td>1</td>\n",
       "    </tr>\n",
       "    <tr>\n",
       "      <th>...</th>\n",
       "      <td>...</td>\n",
       "      <td>...</td>\n",
       "      <td>...</td>\n",
       "      <td>...</td>\n",
       "      <td>...</td>\n",
       "      <td>...</td>\n",
       "      <td>...</td>\n",
       "      <td>...</td>\n",
       "      <td>...</td>\n",
       "      <td>...</td>\n",
       "    </tr>\n",
       "    <tr>\n",
       "      <th>886</th>\n",
       "      <td>887</td>\n",
       "      <td>0</td>\n",
       "      <td>2</td>\n",
       "      <td>27.0</td>\n",
       "      <td>0</td>\n",
       "      <td>0</td>\n",
       "      <td>13.0000</td>\n",
       "      <td>1</td>\n",
       "      <td>0</td>\n",
       "      <td>1</td>\n",
       "    </tr>\n",
       "    <tr>\n",
       "      <th>887</th>\n",
       "      <td>888</td>\n",
       "      <td>1</td>\n",
       "      <td>1</td>\n",
       "      <td>19.0</td>\n",
       "      <td>0</td>\n",
       "      <td>0</td>\n",
       "      <td>30.0000</td>\n",
       "      <td>0</td>\n",
       "      <td>0</td>\n",
       "      <td>1</td>\n",
       "    </tr>\n",
       "    <tr>\n",
       "      <th>888</th>\n",
       "      <td>889</td>\n",
       "      <td>0</td>\n",
       "      <td>3</td>\n",
       "      <td>24.0</td>\n",
       "      <td>1</td>\n",
       "      <td>2</td>\n",
       "      <td>23.4500</td>\n",
       "      <td>0</td>\n",
       "      <td>0</td>\n",
       "      <td>1</td>\n",
       "    </tr>\n",
       "    <tr>\n",
       "      <th>889</th>\n",
       "      <td>890</td>\n",
       "      <td>1</td>\n",
       "      <td>1</td>\n",
       "      <td>26.0</td>\n",
       "      <td>0</td>\n",
       "      <td>0</td>\n",
       "      <td>30.0000</td>\n",
       "      <td>1</td>\n",
       "      <td>0</td>\n",
       "      <td>0</td>\n",
       "    </tr>\n",
       "    <tr>\n",
       "      <th>890</th>\n",
       "      <td>891</td>\n",
       "      <td>0</td>\n",
       "      <td>3</td>\n",
       "      <td>32.0</td>\n",
       "      <td>0</td>\n",
       "      <td>0</td>\n",
       "      <td>7.7500</td>\n",
       "      <td>1</td>\n",
       "      <td>1</td>\n",
       "      <td>0</td>\n",
       "    </tr>\n",
       "  </tbody>\n",
       "</table>\n",
       "<p>889 rows × 10 columns</p>\n",
       "</div>"
      ],
      "text/plain": [
       "     PassengerId  Survived  Pclass   Age  SibSp  Parch     Fare  male  Q  S\n",
       "0              1         0       3  22.0      1      0   7.2500     1  0  1\n",
       "1              2         1       1  38.0      1      0  71.2833     0  0  0\n",
       "2              3         1       3  26.0      0      0   7.9250     0  0  1\n",
       "3              4         1       1  35.0      1      0  53.1000     0  0  1\n",
       "4              5         0       3  35.0      0      0   8.0500     1  0  1\n",
       "..           ...       ...     ...   ...    ...    ...      ...   ... .. ..\n",
       "886          887         0       2  27.0      0      0  13.0000     1  0  1\n",
       "887          888         1       1  19.0      0      0  30.0000     0  0  1\n",
       "888          889         0       3  24.0      1      2  23.4500     0  0  1\n",
       "889          890         1       1  26.0      0      0  30.0000     1  0  0\n",
       "890          891         0       3  32.0      0      0   7.7500     1  1  0\n",
       "\n",
       "[889 rows x 10 columns]"
      ]
     },
     "execution_count": 27,
     "metadata": {},
     "output_type": "execute_result"
    }
   ],
   "source": [
    "df"
   ]
  },
  {
   "cell_type": "code",
   "execution_count": 28,
   "id": "herbal-intention",
   "metadata": {
    "execution": {
     "iopub.execute_input": "2021-06-27T22:32:09.750425Z",
     "iopub.status.busy": "2021-06-27T22:32:09.749789Z",
     "iopub.status.idle": "2021-06-27T22:32:09.753513Z",
     "shell.execute_reply": "2021-06-27T22:32:09.752912Z",
     "shell.execute_reply.started": "2021-06-27T22:09:08.898837Z"
    },
    "papermill": {
     "duration": 0.059346,
     "end_time": "2021-06-27T22:32:09.753675",
     "exception": false,
     "start_time": "2021-06-27T22:32:09.694329",
     "status": "completed"
    },
    "tags": []
   },
   "outputs": [
    {
     "data": {
      "text/plain": [
       "Index(['PassengerId', 'Survived', 'Pclass', 'Age', 'SibSp', 'Parch', 'Fare',\n",
       "       'male', 'Q', 'S'],\n",
       "      dtype='object')"
      ]
     },
     "execution_count": 28,
     "metadata": {},
     "output_type": "execute_result"
    }
   ],
   "source": [
    "df.columns"
   ]
  },
  {
   "cell_type": "code",
   "execution_count": 29,
   "id": "adult-retailer",
   "metadata": {
    "execution": {
     "iopub.execute_input": "2021-06-27T22:32:09.862447Z",
     "iopub.status.busy": "2021-06-27T22:32:09.861849Z",
     "iopub.status.idle": "2021-06-27T22:32:09.866434Z",
     "shell.execute_reply": "2021-06-27T22:32:09.865933Z",
     "shell.execute_reply.started": "2021-06-27T22:09:20.875903Z"
    },
    "papermill": {
     "duration": 0.062254,
     "end_time": "2021-06-27T22:32:09.866569",
     "exception": false,
     "start_time": "2021-06-27T22:32:09.804315",
     "status": "completed"
    },
    "tags": []
   },
   "outputs": [
    {
     "data": {
      "text/plain": [
       "PassengerId      int64\n",
       "Survived         int64\n",
       "Pclass           int64\n",
       "Age            float64\n",
       "SibSp            int64\n",
       "Parch            int64\n",
       "Fare           float64\n",
       "male             uint8\n",
       "Q                uint8\n",
       "S                uint8\n",
       "dtype: object"
      ]
     },
     "execution_count": 29,
     "metadata": {},
     "output_type": "execute_result"
    }
   ],
   "source": [
    "df.dtypes"
   ]
  },
  {
   "cell_type": "markdown",
   "id": "former-weekend",
   "metadata": {
    "papermill": {
     "duration": 0.051523,
     "end_time": "2021-06-27T22:32:09.969148",
     "exception": false,
     "start_time": "2021-06-27T22:32:09.917625",
     "status": "completed"
    },
    "tags": []
   },
   "source": [
    "# Building a Logistic Regression Model\n",
    "let's start by splitting our data into train set and tes set.\n",
    "## Train Test Split"
   ]
  },
  {
   "cell_type": "code",
   "execution_count": 30,
   "id": "choice-cleaning",
   "metadata": {
    "execution": {
     "iopub.execute_input": "2021-06-27T22:32:10.077046Z",
     "iopub.status.busy": "2021-06-27T22:32:10.076227Z",
     "iopub.status.idle": "2021-06-27T22:32:10.302991Z",
     "shell.execute_reply": "2021-06-27T22:32:10.302240Z",
     "shell.execute_reply.started": "2021-06-27T22:12:08.481556Z"
    },
    "papermill": {
     "duration": 0.282201,
     "end_time": "2021-06-27T22:32:10.303153",
     "exception": false,
     "start_time": "2021-06-27T22:32:10.020952",
     "status": "completed"
    },
    "tags": []
   },
   "outputs": [],
   "source": [
    "from sklearn.model_selection import train_test_split"
   ]
  },
  {
   "cell_type": "code",
   "execution_count": 31,
   "id": "romance-friday",
   "metadata": {
    "execution": {
     "iopub.execute_input": "2021-06-27T22:32:10.411994Z",
     "iopub.status.busy": "2021-06-27T22:32:10.411107Z",
     "iopub.status.idle": "2021-06-27T22:32:10.415527Z",
     "shell.execute_reply": "2021-06-27T22:32:10.415018Z",
     "shell.execute_reply.started": "2021-06-27T22:12:23.254963Z"
    },
    "papermill": {
     "duration": 0.060659,
     "end_time": "2021-06-27T22:32:10.415690",
     "exception": false,
     "start_time": "2021-06-27T22:32:10.355031",
     "status": "completed"
    },
    "tags": []
   },
   "outputs": [
    {
     "data": {
      "text/plain": [
       "<function sklearn.model_selection._split.train_test_split(*arrays, test_size=None, train_size=None, random_state=None, shuffle=True, stratify=None)>"
      ]
     },
     "execution_count": 31,
     "metadata": {},
     "output_type": "execute_result"
    }
   ],
   "source": [
    "train_test_split"
   ]
  },
  {
   "cell_type": "code",
   "execution_count": 32,
   "id": "mexican-logan",
   "metadata": {
    "execution": {
     "iopub.execute_input": "2021-06-27T22:32:10.526455Z",
     "iopub.status.busy": "2021-06-27T22:32:10.525748Z",
     "iopub.status.idle": "2021-06-27T22:32:10.529417Z",
     "shell.execute_reply": "2021-06-27T22:32:10.528886Z",
     "shell.execute_reply.started": "2021-06-27T22:16:06.229249Z"
    },
    "papermill": {
     "duration": 0.062756,
     "end_time": "2021-06-27T22:32:10.529554",
     "exception": false,
     "start_time": "2021-06-27T22:32:10.466798",
     "status": "completed"
    },
    "tags": []
   },
   "outputs": [],
   "source": [
    "X_train, X_test, y_train, y_test = train_test_split(df.drop('Survived', axis=1), df['Survived'], test_size=0.30, random_state=101)"
   ]
  },
  {
   "cell_type": "markdown",
   "id": "conscious-english",
   "metadata": {
    "papermill": {
     "duration": 0.050327,
     "end_time": "2021-06-27T22:32:10.631138",
     "exception": false,
     "start_time": "2021-06-27T22:32:10.580811",
     "status": "completed"
    },
    "tags": []
   },
   "source": [
    "## Training and Predicting "
   ]
  },
  {
   "cell_type": "code",
   "execution_count": 33,
   "id": "protective-proceeding",
   "metadata": {
    "execution": {
     "iopub.execute_input": "2021-06-27T22:32:10.737444Z",
     "iopub.status.busy": "2021-06-27T22:32:10.736809Z",
     "iopub.status.idle": "2021-06-27T22:32:10.847013Z",
     "shell.execute_reply": "2021-06-27T22:32:10.847525Z",
     "shell.execute_reply.started": "2021-06-27T22:17:06.194836Z"
    },
    "papermill": {
     "duration": 0.165691,
     "end_time": "2021-06-27T22:32:10.847723",
     "exception": false,
     "start_time": "2021-06-27T22:32:10.682032",
     "status": "completed"
    },
    "tags": []
   },
   "outputs": [],
   "source": [
    "from sklearn.linear_model import LogisticRegression"
   ]
  },
  {
   "cell_type": "code",
   "execution_count": 34,
   "id": "casual-ceiling",
   "metadata": {
    "execution": {
     "iopub.execute_input": "2021-06-27T22:32:10.952421Z",
     "iopub.status.busy": "2021-06-27T22:32:10.951807Z",
     "iopub.status.idle": "2021-06-27T22:32:10.998824Z",
     "shell.execute_reply": "2021-06-27T22:32:10.999296Z",
     "shell.execute_reply.started": "2021-06-27T22:17:51.139592Z"
    },
    "papermill": {
     "duration": 0.101098,
     "end_time": "2021-06-27T22:32:10.999483",
     "exception": false,
     "start_time": "2021-06-27T22:32:10.898385",
     "status": "completed"
    },
    "tags": []
   },
   "outputs": [
    {
     "name": "stderr",
     "output_type": "stream",
     "text": [
      "/opt/conda/lib/python3.7/site-packages/sklearn/linear_model/_logistic.py:765: ConvergenceWarning: lbfgs failed to converge (status=1):\n",
      "STOP: TOTAL NO. of ITERATIONS REACHED LIMIT.\n",
      "\n",
      "Increase the number of iterations (max_iter) or scale the data as shown in:\n",
      "    https://scikit-learn.org/stable/modules/preprocessing.html\n",
      "Please also refer to the documentation for alternative solver options:\n",
      "    https://scikit-learn.org/stable/modules/linear_model.html#logistic-regression\n",
      "  extra_warning_msg=_LOGISTIC_SOLVER_CONVERGENCE_MSG)\n"
     ]
    }
   ],
   "source": [
    "logmodel = LogisticRegression()\n",
    "logmodel.fit(X_train, y_train);"
   ]
  },
  {
   "cell_type": "code",
   "execution_count": 35,
   "id": "enhanced-possibility",
   "metadata": {
    "execution": {
     "iopub.execute_input": "2021-06-27T22:32:11.106860Z",
     "iopub.status.busy": "2021-06-27T22:32:11.105893Z",
     "iopub.status.idle": "2021-06-27T22:32:11.113362Z",
     "shell.execute_reply": "2021-06-27T22:32:11.112794Z",
     "shell.execute_reply.started": "2021-06-27T22:18:57.498766Z"
    },
    "papermill": {
     "duration": 0.062406,
     "end_time": "2021-06-27T22:32:11.113502",
     "exception": false,
     "start_time": "2021-06-27T22:32:11.051096",
     "status": "completed"
    },
    "tags": []
   },
   "outputs": [],
   "source": [
    "predictions = logmodel.predict(X_test)"
   ]
  },
  {
   "cell_type": "markdown",
   "id": "short-aside",
   "metadata": {
    "papermill": {
     "duration": 0.05178,
     "end_time": "2021-06-27T22:32:11.217059",
     "exception": false,
     "start_time": "2021-06-27T22:32:11.165279",
     "status": "completed"
    },
    "tags": []
   },
   "source": [
    "# Evaluation\n",
    "we can check precision, recall, f1-score using calssification report!"
   ]
  },
  {
   "cell_type": "code",
   "execution_count": 36,
   "id": "amended-surname",
   "metadata": {
    "execution": {
     "iopub.execute_input": "2021-06-27T22:32:11.326578Z",
     "iopub.status.busy": "2021-06-27T22:32:11.325551Z",
     "iopub.status.idle": "2021-06-27T22:32:11.328778Z",
     "shell.execute_reply": "2021-06-27T22:32:11.328253Z",
     "shell.execute_reply.started": "2021-06-27T22:21:07.287066Z"
    },
    "papermill": {
     "duration": 0.060399,
     "end_time": "2021-06-27T22:32:11.328927",
     "exception": false,
     "start_time": "2021-06-27T22:32:11.268528",
     "status": "completed"
    },
    "tags": []
   },
   "outputs": [],
   "source": [
    "from sklearn.metrics import classification_report"
   ]
  },
  {
   "cell_type": "code",
   "execution_count": 37,
   "id": "spanish-halifax",
   "metadata": {
    "execution": {
     "iopub.execute_input": "2021-06-27T22:32:11.438066Z",
     "iopub.status.busy": "2021-06-27T22:32:11.437028Z",
     "iopub.status.idle": "2021-06-27T22:32:11.448726Z",
     "shell.execute_reply": "2021-06-27T22:32:11.447694Z",
     "shell.execute_reply.started": "2021-06-27T22:21:33.873246Z"
    },
    "papermill": {
     "duration": 0.06808,
     "end_time": "2021-06-27T22:32:11.448932",
     "exception": false,
     "start_time": "2021-06-27T22:32:11.380852",
     "status": "completed"
    },
    "tags": []
   },
   "outputs": [
    {
     "name": "stdout",
     "output_type": "stream",
     "text": [
      "              precision    recall  f1-score   support\n",
      "\n",
      "           0       0.79      0.91      0.85       163\n",
      "           1       0.82      0.62      0.71       104\n",
      "\n",
      "    accuracy                           0.80       267\n",
      "   macro avg       0.81      0.77      0.78       267\n",
      "weighted avg       0.80      0.80      0.80       267\n",
      "\n"
     ]
    }
   ],
   "source": [
    "print(classification_report(y_test, predictions))"
   ]
  },
  {
   "cell_type": "code",
   "execution_count": 38,
   "id": "julian-gardening",
   "metadata": {
    "execution": {
     "iopub.execute_input": "2021-06-27T22:32:11.559778Z",
     "iopub.status.busy": "2021-06-27T22:32:11.559083Z",
     "iopub.status.idle": "2021-06-27T22:32:11.562616Z",
     "shell.execute_reply": "2021-06-27T22:32:11.562096Z",
     "shell.execute_reply.started": "2021-06-27T22:22:05.741493Z"
    },
    "papermill": {
     "duration": 0.06141,
     "end_time": "2021-06-27T22:32:11.562796",
     "exception": false,
     "start_time": "2021-06-27T22:32:11.501386",
     "status": "completed"
    },
    "tags": []
   },
   "outputs": [],
   "source": [
    "from sklearn.metrics import confusion_matrix"
   ]
  },
  {
   "cell_type": "code",
   "execution_count": 39,
   "id": "damaged-picture",
   "metadata": {
    "execution": {
     "iopub.execute_input": "2021-06-27T22:32:11.674603Z",
     "iopub.status.busy": "2021-06-27T22:32:11.671089Z",
     "iopub.status.idle": "2021-06-27T22:32:11.679335Z",
     "shell.execute_reply": "2021-06-27T22:32:11.678776Z",
     "shell.execute_reply.started": "2021-06-27T22:23:10.335155Z"
    },
    "papermill": {
     "duration": 0.065046,
     "end_time": "2021-06-27T22:32:11.679474",
     "exception": false,
     "start_time": "2021-06-27T22:32:11.614428",
     "status": "completed"
    },
    "tags": []
   },
   "outputs": [
    {
     "data": {
      "text/plain": [
       "array([[149,  14],\n",
       "       [ 39,  65]])"
      ]
     },
     "execution_count": 39,
     "metadata": {},
     "output_type": "execute_result"
    }
   ],
   "source": [
    "confusion_matrix(y_test, predictions)"
   ]
  },
  {
   "cell_type": "markdown",
   "id": "forward-baker",
   "metadata": {
    "papermill": {
     "duration": 0.052551,
     "end_time": "2021-06-27T22:32:11.785200",
     "exception": false,
     "start_time": "2021-06-27T22:32:11.732649",
     "status": "completed"
    },
    "tags": []
   },
   "source": []
  },
  {
   "cell_type": "code",
   "execution_count": null,
   "id": "established-cliff",
   "metadata": {
    "papermill": {
     "duration": 0.051613,
     "end_time": "2021-06-27T22:32:11.889063",
     "exception": false,
     "start_time": "2021-06-27T22:32:11.837450",
     "status": "completed"
    },
    "tags": []
   },
   "outputs": [],
   "source": []
  },
  {
   "cell_type": "code",
   "execution_count": null,
   "id": "meaning-auckland",
   "metadata": {
    "papermill": {
     "duration": 0.053058,
     "end_time": "2021-06-27T22:32:11.994770",
     "exception": false,
     "start_time": "2021-06-27T22:32:11.941712",
     "status": "completed"
    },
    "tags": []
   },
   "outputs": [],
   "source": []
  }
 ],
 "metadata": {
  "kernelspec": {
   "display_name": "Python 3",
   "language": "python",
   "name": "python3"
  },
  "language_info": {
   "codemirror_mode": {
    "name": "ipython",
    "version": 3
   },
   "file_extension": ".py",
   "mimetype": "text/x-python",
   "name": "python",
   "nbconvert_exporter": "python",
   "pygments_lexer": "ipython3",
   "version": "3.7.10"
  },
  "papermill": {
   "default_parameters": {},
   "duration": 18.874145,
   "end_time": "2021-06-27T22:32:12.857129",
   "environment_variables": {},
   "exception": null,
   "input_path": "__notebook__.ipynb",
   "output_path": "__notebook__.ipynb",
   "parameters": {},
   "start_time": "2021-06-27T22:31:53.982984",
   "version": "2.3.3"
  }
 },
 "nbformat": 4,
 "nbformat_minor": 5
}
